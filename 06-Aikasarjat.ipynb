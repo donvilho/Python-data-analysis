{
 "cells": [
  {
   "cell_type": "markdown",
   "metadata": {
    "collapsed": true
   },
   "source": [
    "# Datan analysointi S2020 - Tehtävät kerta 6\n",
    "\n",
    "Palauta ratkaisusi Moodleen, kun olet ensin testannut ratkaisusi toimivuuden Notebookilla tai omalla koneellasi. Kun olet palauttanut tehtäväsi Moodleen, ne arvioidaan pistein:\n",
    "* 1,0 p. Vastaus oikein ensimmäisellä yrityksellä.\n",
    "* 0,5 p. Vastaus oikein toisella yrityksellä.\n",
    "* 0 p. Vastaus on annettu kolmannella yrityksellä.\n",
    "\n",
    "**Tee tehtävät ilman for-silmukoita tms.**"
   ]
  },
  {
   "cell_type": "markdown",
   "metadata": {},
   "source": [
    "## 1. Säädatan aikaleimojen muodostaminen\n",
    "\n",
    "Tee funktio saa(url), joka tekee seuraavaa:\n",
    "* lataa datan DataFrameen [url:sta](https://student.labranet.jamk.fi/~huoptu/datananal_s20/kerta6/harjoitukset/saatiedot.csv),\n",
    "* laskee DataFrameen uuden sarakkeen 'From start, s' riveille kuinka paljon aikaa on kulunut sekunteina aikajärjestyksessä ensimmäisestä mittaustapahtumasta,\n",
    "* asettaa DataFramelle indeksin sarakkeesta 'From start, s' muodossa 'tuntia.minuuttia.sekuntia' [Pandasin aikaleimana](https://pandas.pydata.org/pandas-docs/stable/reference/api/pandas.to_datetime.html),\n",
    "* tulostaa vastaukseen viisi ensimmäistä riviä sarakkeista 'From start, s' ja 'Pressure (msl), hPa', kun mittauksien alusta oli kulunut aikaa enemmän kuin '09.59.45'.\n",
    "\n",
    "Tässä tehtävässä:\n",
    "* url='https://student.labranet.jamk.fi/~huoptu/datananal_s20/kerta6/harjoitukset/saatiedot.csv'\n",
    "\n",
    "**Esimerkiksi, saa(url) tulostaa:**\n",
    "<img src=\"https://student.labranet.jamk.fi/~huoptu/datananal_s20/kerta6/harjoitukset/h6t1.png\" width=\"300\"/>"
   ]
  },
  {
   "cell_type": "code",
   "execution_count": 4,
   "metadata": {
    "scrolled": true
   },
   "outputs": [
    {
     "name": "stdout",
     "output_type": "stream",
     "text": [
      "         From start, s Pressure (msl), hPa\n",
      "hh.mm.ss                                  \n",
      "10.00.00       36000.0              1007.6\n",
      "10.01.00       36060.0              1007.6\n",
      "10.02.00       36120.0              1007.7\n",
      "10.03.00       36180.0              1007.6\n",
      "10.04.00       36240.0              1007.6\n",
      "...                ...                 ...\n",
      "23.54.00       86040.0               998.3\n",
      "23.55.00       86100.0               998.2\n",
      "23.56.00       86160.0               998.3\n",
      "23.57.00       86220.0               998.4\n",
      "23.58.00       86280.0               998.4\n",
      "\n",
      "[839 rows x 2 columns]\n"
     ]
    }
   ],
   "source": [
    "def saa(url):\n",
    "    \n",
    "    import pandas as pd\n",
    "    import datetime as dt\n",
    "    pd.set_option('display.max_rows', 10)\n",
    "        \n",
    "    df = pd.read_csv(url, sep=',', decimal=\".\")\n",
    "    df.rename(columns={df.columns[0]:'aika'}, inplace = True)\n",
    "    df['aika'] = pd.to_datetime(df['aika'])\n",
    "    df = df.sort_values(by='aika', ascending=True )\n",
    "    \n",
    "    col = df.columns.get_loc('aika')\n",
    "    df['From start, s'] = df.iloc[1:,col] - df.iat[0,col]  \n",
    "    df['From start, s'] = df['From start, s'].dt.total_seconds().fillna(0)\n",
    "   \n",
    "    df['hh.mm.ss'] = pd.to_datetime(df['From start, s'], unit='s').dt.strftime('%H.%M.%S')\n",
    "    \n",
    "    df = df.sort_values(by='hh.mm.ss', ascending=True )\n",
    "    \n",
    "    df = df[df['hh.mm.ss'] > '09.59.45']\n",
    "    \n",
    "    tulos = df[['hh.mm.ss','From start, s','Pressure (msl), hPa']].copy()\n",
    "    \n",
    "    tulos['hh.mm.ss'] = pd.to_datetime(tulos['From start, s'], unit='s').dt.strftime('%H.%M.%S')\n",
    "    \n",
    "    tulos = tulos.set_index(['hh.mm.ss'])\n",
    "\n",
    "    tulos = tulos.applymap('{:.1f}'.format) \n",
    "    \n",
    "    print(tulos)\n",
    "\n",
    "\n",
    "url='https://student.labranet.jamk.fi/~huoptu/datananal_s20/kerta6/harjoitukset/saatiedot.csv'\n",
    "saa(url)"
   ]
  },
  {
   "cell_type": "code",
   "execution_count": null,
   "metadata": {},
   "outputs": [],
   "source": []
  },
  {
   "cell_type": "markdown",
   "metadata": {},
   "source": [
    "## 2. Säädatan aikaleimojen muodostaminen (2)\n",
    "\n",
    "Tee funktio saa(url), joka tekee seuraavaa:\n",
    "* lataa datan DataFrameen [url:sta](https://student.labranet.jamk.fi/~huoptu/datananal_s20/kerta6/harjoitukset/saatiedot.csv),\n",
    "* laskee DataFrameen uuden sarakkeen 'From start, s' riveille kuinka paljon aikaa on kulunut sekunteina aikajärjestyksessä ensimmäisestä mittaustapahtumasta,\n",
    "* asettaa DataFramelle indeksin sarakkeesta 'From start, s' muodossa 'tuntia.minuuttia.sekuntia' [Pandasin aikaleimana](https://pandas.pydata.org/pandas-docs/stable/reference/api/pandas.to_datetime.html),\n",
    "* tallentaa uuteen DataFrameen sarakkeet 'Air temperature, degC' ja 'Pressure (msl), hPa',\n",
    "* laskee edelleen uuteen DataFrameen sarakkeiden 'Air temperature, degC' ja 'Pressure (msl), hPa' riveillä olevien arvojen tuntikohtaiset keskiarvot,\n",
    "* pyöristää ja esittää DataFramen lukuarvot yhden desimaalin tarkkuudella,\n",
    "* tulostaa vastaukseen viisi ensimmäistä riviä sarakkeista 'Air temperature, degC' ja 'Pressure (msl), hPa', kun mittauksien alusta oli kulunut aikaa vähintään '07.00.00'.\n",
    "\n",
    "Tässä tehtävässä:\n",
    "* url='https://student.labranet.jamk.fi/~huoptu/datananal_s20/kerta6/harjoitukset/saatiedot.csv'\n",
    "\n",
    "**Esimerkiksi saa(url) tulostaa:**\n",
    "<img src=\"https://student.labranet.jamk.fi/~huoptu/datananal_s20/kerta6/harjoitukset/h6t2.png\" width=\"325\"/>"
   ]
  },
  {
   "cell_type": "code",
   "execution_count": 3,
   "metadata": {},
   "outputs": [
    {
     "ename": "AttributeError",
     "evalue": "'DatetimeIndex' object has no attribute 'dt'",
     "output_type": "error",
     "traceback": [
      "\u001b[0;31m---------------------------------------------------------------------------\u001b[0m",
      "\u001b[0;31mAttributeError\u001b[0m                            Traceback (most recent call last)",
      "\u001b[0;32m<ipython-input-3-b9ab539e4ab1>\u001b[0m in \u001b[0;36m<module>\u001b[0;34m\u001b[0m\n\u001b[1;32m     32\u001b[0m \u001b[0;34m\u001b[0m\u001b[0m\n\u001b[1;32m     33\u001b[0m \u001b[0murl\u001b[0m\u001b[0;34m=\u001b[0m\u001b[0;34m'https://student.labranet.jamk.fi/~huoptu/datananal_s20/kerta6/harjoitukset/saatiedot.csv'\u001b[0m\u001b[0;34m\u001b[0m\u001b[0;34m\u001b[0m\u001b[0m\n\u001b[0;32m---> 34\u001b[0;31m \u001b[0msaa\u001b[0m\u001b[0;34m(\u001b[0m\u001b[0murl\u001b[0m\u001b[0;34m)\u001b[0m\u001b[0;34m\u001b[0m\u001b[0;34m\u001b[0m\u001b[0m\n\u001b[0m",
      "\u001b[0;32m<ipython-input-3-b9ab539e4ab1>\u001b[0m in \u001b[0;36msaa\u001b[0;34m(url)\u001b[0m\n\u001b[1;32m     25\u001b[0m \u001b[0;34m\u001b[0m\u001b[0m\n\u001b[1;32m     26\u001b[0m     \u001b[0;31m#df.index = df.index.astype(str).str.split().str[1]\u001b[0m\u001b[0;34m\u001b[0m\u001b[0;34m\u001b[0m\u001b[0;34m\u001b[0m\u001b[0m\n\u001b[0;32m---> 27\u001b[0;31m     \u001b[0mdf\u001b[0m\u001b[0;34m.\u001b[0m\u001b[0mindex\u001b[0m \u001b[0;34m=\u001b[0m \u001b[0mpd\u001b[0m\u001b[0;34m.\u001b[0m\u001b[0mto_datetime\u001b[0m\u001b[0;34m(\u001b[0m\u001b[0mdf\u001b[0m\u001b[0;34m.\u001b[0m\u001b[0mindex\u001b[0m\u001b[0;34m)\u001b[0m\u001b[0;34m.\u001b[0m\u001b[0mdt\u001b[0m\u001b[0;34m.\u001b[0m\u001b[0mstrftime\u001b[0m\u001b[0;34m(\u001b[0m\u001b[0;34m'%H.%M.%S'\u001b[0m\u001b[0;34m)\u001b[0m\u001b[0;34m\u001b[0m\u001b[0;34m\u001b[0m\u001b[0m\n\u001b[0m\u001b[1;32m     28\u001b[0m \u001b[0;34m\u001b[0m\u001b[0m\n\u001b[1;32m     29\u001b[0m \u001b[0;34m\u001b[0m\u001b[0m\n",
      "\u001b[0;31mAttributeError\u001b[0m: 'DatetimeIndex' object has no attribute 'dt'"
     ]
    }
   ],
   "source": [
    "def saa(url):\n",
    "    \n",
    "    import pandas as pd\n",
    "    import datetime as dt\n",
    "    pd.set_option('display.max_rows', 10)\n",
    "        \n",
    "    df = pd.read_csv(url, sep=',', decimal=\".\")\n",
    "    df.rename(columns={df.columns[0]:'aika'}, inplace = True)\n",
    "    df['aika'] = pd.to_datetime(df['aika'])\n",
    "    df = df.sort_values(by='aika', ascending=True )\n",
    "    \n",
    "    col = df.columns.get_loc('aika')\n",
    "    df['From start, s'] = df.iloc[1:,col] - df.iat[0,col]  \n",
    "    df['From start, s'] = df['From start, s'].dt.total_seconds().fillna(0)\n",
    "   \n",
    "    df['hh.mm.ss'] = pd.to_datetime(df['From start, s'], unit='s').dt.strftime('%H.%M.%S')\n",
    "\n",
    "    df = df[df['hh.mm.ss'] >= '07.00.00']\n",
    "    \n",
    "    df = df[['hh.mm.ss','Air temperature, degC','Pressure (msl), hPa']]\n",
    "    \n",
    "    df.index = pd.to_datetime(df['hh.mm.ss'], format='%H.%M.%S')\n",
    "    \n",
    "    df = df.resample('H').mean().applymap('{:.1f}'.format) \n",
    "    \n",
    "    #df.index = df.index.astype(str).str.split().str[1]\n",
    "    df.index = pd.to_datetime(df.index).dt.strftime('%H.%M.%S')\n",
    "    \n",
    "    \n",
    "    print(df)\n",
    "\n",
    "\n",
    "url='https://student.labranet.jamk.fi/~huoptu/datananal_s20/kerta6/harjoitukset/saatiedot.csv'\n",
    "saa(url)"
   ]
  },
  {
   "cell_type": "markdown",
   "metadata": {},
   "source": [
    "## 3. Aikasarjadatan generointia\n",
    "\n",
    "Eräässä sovelluksessa tarvitaan tieto kappaleen paikasta $xy$ - koordinaatistossa tunnetulla ajanhetkellä. Kappaleen lähtiessä liikkeelle levosta ajanhetkellä $t$ on 0 sekuntia, kappaleen paikka $xy$ - tasolla metreinä on\n",
    "$$\n",
    "x=\\frac{t\\cdot v_0}{\\sqrt{2}}\\ \\text{ja}\n",
    "$$\n",
    "$$\n",
    "y=\\frac{t\\cdot v_0}{\\sqrt{2}} - \\frac{9.82\\ \\text{m}/\\text{s}^2\\cdot t^2}{2},\n",
    "$$\n",
    "missä kappaleen lähtönopeus $v_0$ on 600 m/s ja $t$ on aika sekunteina. Kappaleen liikeyhtälö pätee, jos kappale lähtee liikkeelle 45-asteen kulmassa $x$-akseliin nähden ja väliaineen vastausvoimat oletetaan olemattomiksi.\n",
    "\n",
    "Tätä varten tee funktio timedata(start, end), joka tekee seuraavaa:\n",
    "* muodostaa DataFramen indeksiksi [Pandasin aikaleiman](https://pandas.pydata.org/pandas-docs/stable/reference/api/pandas.to_datetime.html) muodossa **tuntia:minuuttia:sekuntia** 20 sekunnin välein alkaen ajanhetkestä '2019-12-31 23:59:00' hetkeen '2020-01-01 00:00:30',\n",
    "* esittää uudessa DataFramessa kappaleen lentoajan $t$ sekunteina sarakkeessa 't, s', \n",
    "* laskee DataFrameen kappaleen paikan x-akselin suunnassa metreinä sarakkeeseen 'x, m',\n",
    "* laskee DataFrameen kappaleen paikan y-akselin suunnassa metreinä sarakkeeseen 'y, m',\n",
    "* pyöristää ja esittää DataFramessa lukuarvot kokonaislukujen tarkkuuteen,\n",
    "* tulostaa vastaukseen viisi ensimmäistä riviä ajanhetkestä 0 sekuntia (sarake 't, s') eteenpäin.\n",
    "\n",
    "Tässä tehtävässä:\n",
    "* start='2019-12-31 23:59:00'\n",
    "* end='2020-01-01 00:00:30'\n",
    "\n",
    "**Esimerkiksi timedata(start, end) tulostaa:**\n",
    "<img src=\"https://student.labranet.jamk.fi/~huoptu/datananal_s20/kerta6/harjoitukset/h6t3.png\" width=\"190\"/>\n"
   ]
  },
  {
   "cell_type": "code",
   "execution_count": 6,
   "metadata": {},
   "outputs": [
    {
     "name": "stdout",
     "output_type": "stream",
     "text": [
      "         t, s   x, m  y, m\n",
      "hh:mm:ss                  \n",
      "23:59:00    0      0     0\n",
      "23:59:20   20   8485  6521\n",
      "23:59:40   40  16971  9115\n",
      "00:00:00   60  25456  7780\n",
      "00:00:20   80  33941  2517\n"
     ]
    }
   ],
   "source": [
    "def timedata(start, end):\n",
    "\n",
    "    import pandas as pd\n",
    "    import datetime as dt\n",
    "    import numpy as np\n",
    "    from dateutil.parser import parse\n",
    "\n",
    "    dr = pd.date_range(parse(start),parse(end), freq='20S')\n",
    "    \n",
    "    df = pd.DataFrame(dr)\n",
    "    df.rename(columns={df.columns[0]:'hh:mm:ss'}, inplace = True)\n",
    "    \n",
    "    compare = df.columns.get_loc('hh:mm:ss')\n",
    "    df['t, s'] = df.iloc[1:,compare] - df.iat[0,compare]  \n",
    "    df['t, s'] = df['t, s'].dt.total_seconds().fillna(0).astype(int)\n",
    "    \n",
    "    df['x, m'] = (df['t, s']*600/np.sqrt(2))\n",
    "    df['y, m'] = (df['x, m']-((9.82*df['t, s']**2)/2))\n",
    "    \n",
    "    \n",
    "    df['hh:mm:ss'] = pd.to_datetime(df['hh:mm:ss']).dt.strftime('%H:%M:%S')\n",
    "    \n",
    "    df = df.set_index(['hh:mm:ss'])\n",
    "    \n",
    "    df = df.applymap('{:.0f}'.format) \n",
    "    \n",
    "    print(df.head(5))\n",
    " \n",
    "\n",
    "\n",
    "start='2019-12-31 23:59:00'\n",
    "end='2020-01-01 00:00:30'\n",
    "\n",
    "timedata(start,end)"
   ]
  },
  {
   "cell_type": "markdown",
   "metadata": {},
   "source": [
    "## 4. Aikasarjadatan lineaarinen interpolointi\n",
    "\n",
    "Tämän tehtävän datassa esiintyvät sarakkeet 'hh:mm:ss', 'aika, s' ja 'y, m', mitkä edustavat kellonaikaa mittauksian alusta, aikaa mittauksien alusta sekunteina ja kappaleen paikkaa metreinä. Tee funktio interp_times(url), joka tekee seuraavaa:\n",
    "* lataa datan [url:sta](https://student.labranet.jamk.fi/~huoptu/datananal_s20/kerta6/harjoitukset/motion.csv) DataFrameen,\n",
    "* täyttää mittauksien alusta lähtien uuden DataFramen indekseihin puuttuvat kellonajan arvot ja puuttuvat ajan arvot sarakkeeseen 't_tot, s' 5 sekunnin aikavälein,\n",
    "* täyttää mittauksien alusta lähtien uuteen DataFrameen puuttuvat kappaleen paikan arvot sarakkeeseen 'int_y, m' lineaarisen approksimaation mukaan 5 sekunnin välein,\n",
    "* pyöristää DataFramen lukuarvot kokonaislukujen tarkkuuteen,\n",
    "* tulostaa vastaukseen sarakkeet 't_tot, s' ja 'int_y, m', kun mittauksien alusta lukien kellonaika on '00:00:45'-'00:01:31'.\n",
    "\n",
    "Tässä tehtävässä lineaarinen approksimaatio tarkoittaa kahden eri pisteen väliin jäävien paikan $y$ arvojen laskemista suoran yhtälön avulla\n",
    "$$\n",
    "y=\\left(\\frac{y_{i+1}-y_{i}}{t_{i+1}-t_{i}}\\right)\\cdot(t-t_{i})+y_{i},\n",
    "$$\n",
    "missä $y_i$ ja $y_{i+1}$ ovat alkuperäisen datasetin peräkkäiset kappaleen paikat (metreinä) sekä $t_i$ ja $t_{i+1}$ ovat alkuperäisen datasetin peräkkäiset ajanhetket sekunteina. Kappaleen paikka $y$ on metreinä ja tunnettujen pisteiden välissä oleva ajanhetki $t$ on sekunteina. Indeksi $i$ tarkoittaa alkuperäisen datan rivi-indeksiä ja $i+1$ tarkoittaa seuraavaa rivi-indeksiä.\n",
    "\n",
    "**Huom! Älä käytä tehtävässä for - silmukoita.**\n",
    "\n",
    "Tässä tehtävässä:\n",
    "* url='https://student.labranet.jamk.fi/~huoptu/datananal_s20/kerta6/harjoitukset/motion.csv'\n",
    "\n",
    "**Esimerkiksi interp_times(url) tulostaa:**\n",
    "<img src=\"https://student.labranet.jamk.fi/~huoptu/datananal_s20/kerta6/harjoitukset/h6t5.png\" width=\"190\"/>"
   ]
  },
  {
   "cell_type": "code",
   "execution_count": 1,
   "metadata": {},
   "outputs": [
    {
     "name": "stdout",
     "output_type": "stream",
     "text": [
      "              hh:mm:ss  t_tot, s      int_y, m\n",
      "0  2021-04-06 00:00:00         0      0.000000\n",
      "1  2021-04-06 00:00:05         5      0.000000\n",
      "2  2021-04-06 00:00:10        10      0.000000\n",
      "3  2021-04-06 00:00:15        15   7988.516740\n",
      "4  2021-04-06 00:00:20        20      0.000000\n",
      "5  2021-04-06 00:00:25        25      0.000000\n",
      "6  2021-04-06 00:00:30        30  13767.533479\n",
      "7  2021-04-06 00:00:35        35      0.000000\n",
      "8  2021-04-06 00:00:40        40      0.000000\n",
      "9  2021-04-06 00:00:45        45  17337.050219\n",
      "10 2021-04-06 00:00:50        50      0.000000\n",
      "11 2021-04-06 00:00:55        55      0.000000\n",
      "12 2021-04-06 00:01:00        60  18697.066959\n",
      "13 2021-04-06 00:01:05        65      0.000000\n",
      "14 2021-04-06 00:01:10        70      0.000000\n",
      "15 2021-04-06 00:01:15        75  17847.583699\n",
      "16 2021-04-06 00:01:20        80      0.000000\n",
      "17 2021-04-06 00:01:25        85      0.000000\n",
      "18 2021-04-06 00:01:30        90  14788.600438\n",
      "19 2021-04-06 00:01:35        95      0.000000\n",
      "20 2021-04-06 00:01:40       100      0.000000\n",
      "21 2021-04-06 00:01:45       105   9520.117178\n",
      "22 2021-04-06 00:01:50       110      0.000000\n",
      "23 2021-04-06 00:01:55       115      0.000000\n",
      "24 2021-04-06 00:02:00       120   2042.133918\n"
     ]
    }
   ],
   "source": [
    "def interp_times(url):\n",
    "    import pandas as pd\n",
    "    pd.set_option('display.max_rows', None)\n",
    "    \n",
    "    df = pd.read_csv(url, sep='\\t', decimal='.', parse_dates=True, index_col='hh:mm:ss')\n",
    "    df.rename(columns={'aika, s': 't_tot, s'}, inplace=True)\n",
    "    df.rename(columns={'y, m': 'int_y, m'}, inplace=True)\n",
    "    df = df.resample('5S').asfreq().fillna(0)\n",
    "    df = df.reset_index()\n",
    "    compare = df.columns.get_loc('hh:mm:ss')\n",
    "    df['t_tot, s'] = df.iloc[1:,compare] - df.iat[0,compare]  \n",
    "    df['t_tot, s'] = df['t_tot, s'].dt.total_seconds().fillna(0).astype(int)\n",
    "    \n",
    "    \n",
    "    #df['int_y, m'] = df['int_y, m'].round().astype(int)\n",
    "    \n",
    "    \n",
    "    \n",
    "    #df['hh:mm:ss'] = pd.to_datetime(df['hh:mm:ss']).dt.strftime('%H:%M:%S')\n",
    "    \n",
    "    #df = df.set_index(['hh:mm:ss'])\n",
    "    #df = df[(df.index >= '00:00:45') & (df.index <= '00:01:31')]\n",
    "    \n",
    "    print(df)\n",
    "    \n",
    "url='https://student.labranet.jamk.fi/~huoptu/datananal_s20/kerta6/harjoitukset/motion.csv'\n",
    "interp_times(url)"
   ]
  },
  {
   "cell_type": "markdown",
   "metadata": {},
   "source": [
    "## 5. Aikasarjojen yhdistäminen\n",
    "\n",
    "Tässä tehtävässä yhdistetään kaksi eri aikasarjadatasettiä niiden aikaleimojen perusteella. \n",
    "* [Datasetissä](https://student.labranet.jamk.fi/~huoptu/datananal_s20/kerta6/harjoitukset/saatiedot_kumpula_1d.csv) nro 1. aikainformaatio on sisällytetty ensimmäiseen ensimmäiseen nimeämättömään sarakkeeseen muodossa 'vuosi-kuukausi-päivä tunnit:minuutit:sekunnit'. Datasetissä nro 1. tarvitaan jatkolaskuja varten sarakkeen 'Air temperature, degC' lämpötilainformaatio.\n",
    "* [Datasetissä](https://student.labranet.jamk.fi/~huoptu/datananal_s20/kerta6/harjoitukset/indoormeas.csv) nro 2. aikainformaatio on sisällytetty ensimmäiseen sarakkeeseen 'time, s' sekunteina. Datasetissä nro 2. tarvitaan jatkolaskuja varten sarakkeen 'Temp, C-deg' lämpötilainformaatio.\n",
    "\n",
    "Tee funktio tempdiff(url1, url2), joka tekee seuraavaa:\n",
    "* lataa aikasarjadatan nro 1. DataFrameen [url:sta](https://student.labranet.jamk.fi/~huoptu/datananal_s20/kerta6/harjoitukset/saatiedot_kumpula_1d.csv) ja aikasarjadatan nro 2. toiseen DataFrameen [url:sta](https://student.labranet.jamk.fi/~huoptu/datananal_s20/kerta6/harjoitukset/indoormeas.csv),\n",
    "* muodostaa datan nro 2. DataFrameen aikaleiman indeksiksi muodossa 'vuosi-kuukausi-päivä tunnit:minuutit:sekunnit', kun mittaukset ovat alkaneet '2020-11-05 08:40:00' ja sarake 'time, s' kertoo ajan mittausten alusta sekunteina,\n",
    "* yhdistää aikasarjadatojen nro 1. ja nro 2. kaikki lämpötilat 'Air temperature, degC' ja 'Temp, C-deg' yhteen DataFrameen aikaleimojen perusteella kasvavaan aikajärjestykseen siten, että yhdistetyssä DataFramessa indeksi kertoo mittaustapahtumien ajanhetken,\n",
    "* puuttuvien lämpötilojen arvot täytetään DataFrameen em. aikajärjestyksessä edellisillä lämpötilan arvoilla,\n",
    "* laskee uuteen DataFrameen sarakkeeseen 'Temp_diff, C-deg' kuinka paljon lämpötila 'Temp, C-deg' on suurempi kuin lämpötila 'Air temperature, degC',\n",
    "* laskee DataFrameen lämpötilojen erotuksen 'Temp_diff, C-deg' liukuvan keskiarvon kolmen tunnin aikaikkunalla sarakkeeseen 'Temp_roll, C-deg',\n",
    "* pyöristää ja esittää DataFramen lukuarvot kolmen desimaalin tarkkuudella,\n",
    "* tulostaa lopputulokseen viisi ensimmäistä riviä sarakkeista 'Temp_diff, C-deg' ja 'Temp_roll, C-deg' ajanhetkestä '2020-11-05 12:59:00' eteenpäin.\n",
    "\n",
    "**Esimerkiksi tempdiff(url1, url2) tulostaa:**\n",
    "<img src=\"https://student.labranet.jamk.fi/~huoptu/datananal_s20/kerta6/harjoitukset/h6t4.png\" width=\"350\"/>"
   ]
  },
  {
   "cell_type": "code",
   "execution_count": null,
   "metadata": {},
   "outputs": [],
   "source": [
    "def tempdiff(url1, url2):\n",
    "    # Kirjoita vastauksesi tähän alle:\n",
    "    \n",
    "    # ...\n",
    "    # Älä kirjoita tähän muita print komentoja ennen viimeistä print(tulos) komentoa, koska tällöin vastauksesi saatetaan tulkita väärin.\n",
    "    \n",
    "    # Lopuksi vastauksesi tulostetaan tulos muuttujassa\n",
    "    print(tulos)\n",
    "\n",
    "# Voit kokeillä funktiosi toimivuutta:\n",
    "url1 = 'https://student.labranet.jamk.fi/~huoptu/datananal_s20/kerta6/harjoitukset/saatiedot_kumpula_1d.csv'    \n",
    "url2 = 'https://student.labranet.jamk.fi/~huoptu/datananal_s20/kerta6/harjoitukset/indoormeas.csv'\n",
    "tempdiff(url1, url2)"
   ]
  }
 ],
 "metadata": {
  "kernelspec": {
   "display_name": "Python 3",
   "language": "python",
   "name": "python3"
  },
  "language_info": {
   "codemirror_mode": {
    "name": "ipython",
    "version": 3
   },
   "file_extension": ".py",
   "mimetype": "text/x-python",
   "name": "python",
   "nbconvert_exporter": "python",
   "pygments_lexer": "ipython3",
   "version": "3.8.5"
  }
 },
 "nbformat": 4,
 "nbformat_minor": 2
}
