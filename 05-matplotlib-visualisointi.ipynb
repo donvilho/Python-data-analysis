{
 "cells": [
  {
   "cell_type": "markdown",
   "metadata": {},
   "source": [
    "## Datan analysointi S2020 Tehtävät kerta 5\n",
    "\n",
    "**Opiskelijan nimi:**\n",
    "\n",
    "Harjoituskerran 5 tehtävistä palautetaan Moodleen tiedosto muodossa **harjoitus5_etunimi_sukunimi.ipynb**. Jokaiseen vastattuun tehtävään tulee ajaa niiden ratkaisut näkyville. Vain ajetut ratkaisut voidaan arvioida. Tehtäväsi arvioidaan pistein:\n",
    "\n",
    "* 1,0 p. Vastaus on täysin oikein.\n",
    "* 0,5 p. Vastaus on osittain oikein.\n",
    "* 0 p. Vastaus on väärin.\n",
    "\n",
    "**Tehtävissä ei tule käyttää silmukkarakenteita.** Sen sijaan tämän harjoituksen tehtävät kirjoitetaan ilman funktiorakennetta (skripti muodossa). Ratkaisusi on oikein, jos saat saman kuvan kuin esimerkkivastauksessa.\n",
    "\n"
   ]
  },
  {
   "cell_type": "markdown",
   "metadata": {},
   "source": [
    "## 1. Säädatan esittäminen\n",
    "\n",
    "Esitetään säädataa, joka on ladattu [Ilmatieteen laitoksen WFS rajapintapalvelusta](https://www.ilmatieteenlaitos.fi/latauspalvelun-pikaohje). Ennen säädatan esittämistä se tulee käsitellä seuraavasti:\n",
    "* lataa data DataFrameen url:sta 'https://student.labranet.jamk.fi/~huoptu/datananal_s20/kerta5/harjoitukset/saatiedot.csv' ottaen huomioon sarakkeiden erotinmerkin ',' ja desimaalierottimen '.',\n",
    "* datan ensimmäisessä sarakkeessa (tai indeksissä) on esitetty aika muodossa **vuosi-kuukausi-päivä tunnit:minuutit:sekunnit**,\n",
    "* muodosta em. aika sarakkeen kaikkia kenttiä (päivämäärä ja kellonkaika) hyödyntämällä uuteen DataFrameen sarake 'aika, s', joka kertoo kuinka paljon aikaa on kulunut sekunteina ensimmäisestä mittaushavainnosta eteenpäin,\n",
    "* lisää uuteen DataFrameen sarake 'Air temperature, degC',\n",
    "* tulosta tekemästäsi em. DataFramesta viisi ensimmäistä riviä.\n",
    "\n",
    "Kun olet käsitellyt datan, tee xy - tasolle seuraavanlainen kuvaaja:\n",
    "* aika sarakkeesta 'aika, s' on esitetty vaaka-akselilla ja ilman lämpötila sarakkeesta 'Air temperature, degC' on esitetty pystyakselilla,\n",
    "* em. kuvaajassa datapisteitä on merkitty punaisella pisteellä,\n",
    "* punaista pistettä esittävälle datalle on merkitty selite (legend), jossa lukee 'ilman lämpötila',\n",
    "* vaaka-akelin otsikoksi on kirjoitettu 'aika, s' ja pystyakselin otsikoksi 'ilman lämpötila $^{o}C$ ',\n",
    "* huomaa, että voit akselin otsikkoon voit merkitä fysikaalisen yksikön [TeX syntaksilla](https://en.wikipedia.org/wiki/TeX),\n",
    "* lisää kuvaajaan ruudukko, jossa on musta katkoviiva.\n",
    "\n",
    "**Esimerkkikuva:**\n",
    "<img src=\"https://student.labranet.jamk.fi/~huoptu/datananal_s20/kerta5/harjoitukset/tehtava1.png\" width=\"450\"/>\n"
   ]
  },
  {
   "cell_type": "code",
   "execution_count": 8,
   "metadata": {},
   "outputs": [
    {
     "ename": "TypeError",
     "evalue": "'Series' object is not callable",
     "output_type": "error",
     "traceback": [
      "\u001b[1;31m---------------------------------------------------------------------------\u001b[0m",
      "\u001b[1;31mTypeError\u001b[0m                                 Traceback (most recent call last)",
      "\u001b[1;32m<ipython-input-8-6516e4bf7740>\u001b[0m in \u001b[0;36m<module>\u001b[1;34m\u001b[0m\n\u001b[0;32m      9\u001b[0m \u001b[0mdf\u001b[0m\u001b[1;33m[\u001b[0m\u001b[1;34m'aika'\u001b[0m\u001b[1;33m]\u001b[0m \u001b[1;33m=\u001b[0m \u001b[0mpd\u001b[0m\u001b[1;33m.\u001b[0m\u001b[0mto_datetime\u001b[0m\u001b[1;33m(\u001b[0m\u001b[0mdf\u001b[0m\u001b[1;33m[\u001b[0m\u001b[1;34m'aika'\u001b[0m\u001b[1;33m]\u001b[0m\u001b[1;33m)\u001b[0m\u001b[1;33m\u001b[0m\u001b[1;33m\u001b[0m\u001b[0m\n\u001b[0;32m     10\u001b[0m \u001b[1;33m\u001b[0m\u001b[0m\n\u001b[1;32m---> 11\u001b[1;33m \u001b[0mprint\u001b[0m\u001b[1;33m(\u001b[0m\u001b[0mdf\u001b[0m\u001b[1;33m[\u001b[0m\u001b[1;34m'aika'\u001b[0m\u001b[1;33m]\u001b[0m\u001b[1;33m.\u001b[0m\u001b[0mdt\u001b[0m\u001b[1;33m.\u001b[0m\u001b[0msecond\u001b[0m\u001b[1;33m(\u001b[0m\u001b[1;33m)\u001b[0m\u001b[1;33m)\u001b[0m\u001b[1;33m\u001b[0m\u001b[1;33m\u001b[0m\u001b[0m\n\u001b[0m\u001b[0;32m     12\u001b[0m \u001b[1;33m\u001b[0m\u001b[0m\n",
      "\u001b[1;31mTypeError\u001b[0m: 'Series' object is not callable"
     ]
    }
   ],
   "source": [
    "import pandas as pd\n",
    "import datetime as dt\n",
    "\n",
    "url = 'https://student.labranet.jamk.fi/~huoptu/datananal_s20/kerta5/harjoitukset/saatiedot.csv'\n",
    "df = pd.read_csv(url, sep=',', decimal='.')\n",
    "\n",
    "df = df.rename(columns={'Unnamed: 0':'aika'})\n",
    "\n",
    "df['aika'] = pd.to_datetime(df['aika'])\n",
    "\n",
    "print(df['aika'].dt.second())\n",
    "\n"
   ]
  },
  {
   "cell_type": "markdown",
   "metadata": {},
   "source": [
    "## 2. Säädatan esittäminen (2)\n",
    "\n",
    "Esitetään säädataa, joka on ladattu [Ilmatieteen laitoksen WFS rajapintapalvelusta](https://www.ilmatieteenlaitos.fi/latauspalvelun-pikaohje). Ennen säädatan esittämistä se tulee käsitellä seuraavasti:\n",
    "* lataa data DataFrameen url:sta 'https://student.labranet.jamk.fi/~huoptu/datananal_s20/kerta5/harjoitukset/saatiedot.csv' ottaen huomioon sarakkeiden erotinmerkin ',' ja desimaalierottimen '.',\n",
    "* datan ensimmäisessä sarakkeessa (tai indeksissä) on esitetty aika muodossa **vuosi-kuukausi-päivä tunnit:minuutit:sekunnit**,\n",
    "* muodosta em. aika sarakkeen kaikkia kenttiä (päivämäärä ja kellonkaika) hyödyntämällä uuteen DataFrameen sarake 'aika, s', joka kertoo kuinka paljon aikaa on kulunut sekunteina ensimmäisestä mittaushavainnosta eteenpäin,\n",
    "* lisää uuteen DataFrameen sarakkeet 'Air temperature, degC' ja 'Wind speed, m/s',\n",
    "* tulosta tekemästäsi em. DataFramesta viisi ensimmäistä riviä.\n",
    "\n",
    "Kun olet käsitellyt datan, tee xy - tasolle seuraavanlainen kuvaaja:\n",
    "* aika sarakkeesta 'aika, s' on esitetty vaaka-akselilla ja ilman lämpötila sarakkeesta 'Air temperature, degC' on esitetty vasemman puoleisella pystyakselilla ja tuulen nopeus sarakkeesta 'Wind speed, m/s' on esitetty oikean puoleisella pystyakselilla,\n",
    "* em. kuvaajassa datapisteitä ('aika, s','Air temperature, degC') on merkitty punaisella pisteellä ja datapisteitä ('aika, s','Wind speed, m/s') on merkitty sinisellä pisteellä,\n",
    "* datapisteiden ('aika, s','Air temperature, degC') selite 'ilman lämpötila' (legend) on esitetty kuvassa oikealla alhaalla,\n",
    "* datapisteiden ('aika, s','Wind speed, m/s') selite 'tuulen nopeus' (legend) on esitetty kuvassa vasemmalla ylhäällä,\n",
    "* x - akselilla on esitetty aika yksiköissä $\\cdot 10^{3}$ s ja x-akselin otsikko on 'aika, $\\cdot 10^{3}$ s',\n",
    "* vasemman puoleisen y-akselin otsikkona on 'ilman lämpötila, $^{o}C$',\n",
    "* oikean puoleisen y-akselin otsikkona on 'tuulen nopeus, m/s',\n",
    "* muuta x-akselin asteikkojaotus esimerkkikuvan kaltaiseksi,\n",
    "* lisää kuvaajaan ruudukko, jossa on musta katkoviiva,\n",
    "* aseta kuvan taustan väriksi (RGB) '#D7F8FF',\n",
    "* aseta kuvan otsikoksi 'Säätila Jyväskylän lentoasemalla'.\n",
    "\n",
    "**Esimerkkikuva:**\n",
    "<img src=\"https://student.labranet.jamk.fi/~huoptu/datananal_s20/kerta5/harjoitukset/tehtava2.png\" width=\"450\"/>"
   ]
  },
  {
   "cell_type": "markdown",
   "metadata": {},
   "source": [
    "## 3. Autodatan esittäminen\n",
    "\n",
    "#### Datan esikäsittely\n",
    "\n",
    "Lataa data DataFrameen [url:sta](https://student.labranet.jamk.fi/~huoptu/datananal_s20/kerta5/harjoitukset/autot.csv), kun olet huomioinut sarakkeiden erotinmerkit '\\t'. Tallenna uuteen DataFrameen vain ne rivit, joissa autonvalmistajalla (sarake 'Mh') on enemmän kuin 50 autoa. Muuta uudessa DataFramessa sarakkeen 'Ft' merkkijonojen 'DIESEL' tilalle 'Diesel' ja 'PETROL' tilalle 'Petrol'. Jos sarakkeessa 'Ft' on merkkijono 'NG', korvaa se merkkijonolla 'Natural gas'.\n",
    "\n",
    "#### Datan visualisointi\n",
    "\n",
    "Tee esimerkkikuvan kaltainen kuvaaja, jossa hyödynnät tuottamasi DataFramen sarakkeita autojen polttoainetyypin 'Ft' ja auton valmistajan 'Mh' osalta.\n",
    "\n",
    "**Esimerkkikuva:**\n",
    "<img src=\"https://student.labranet.jamk.fi/~huoptu/datananal_s20/kerta5/harjoitukset/tehtava3.png\" width=\"500\"/>"
   ]
  },
  {
   "cell_type": "markdown",
   "metadata": {},
   "source": [
    "## 4. Autodatan esittäminen (2)\n",
    "\n",
    "#### Datan esikäsittely\n",
    "\n",
    "Lataa data DataFrameen [url:sta](https://student.labranet.jamk.fi/~huoptu/datananal_s20/kerta5/harjoitukset/autot.csv), kun olet huomioinut sarakkeiden erotinmerkit '\\t'. Tallenna uuteen DataFrameen vain ne rivit, joissa autonvalmistajalla (sarake 'Mh') on enemmän kuin 50 autoa ja sarakkeessa 'Enedc (g/km)' on nollaa suurempia arvoja.\n",
    "\n",
    "#### Datan visualisointi\n",
    "\n",
    "Tee esimerkkikuvan kaltainen histogrammi, josta käy ilmi $CO_2$ päästöjen (sarake 'Enedc (g/km)') jakautuminen 100 eri lukualuevälin mukaan sekä kumulatiivinen histogrammi $CO_2$ päästöistä (sarake 'Enedc (g/km)'). Otathan huomioon logaritmisen asteikon todennäköisyystiheysjakaumille.\n",
    "\n",
    "**Esimerkkikuva:**\n",
    "<img src=\"https://student.labranet.jamk.fi/~huoptu/datananal_s20/kerta5/harjoitukset/tehtava4.png\" width=\"500\"/>\n"
   ]
  },
  {
   "cell_type": "markdown",
   "metadata": {},
   "source": [
    "## 5. Useita kuvaajia\n",
    "\n",
    "Tee tehtävien 1-4 kuvaajat samaan kuvaan alla olevan esimerkkikuvan mukaisesti. Kuvissa tulee säilyä samat tyylit, mutta niiden koko voi muuttua.\n",
    "\n",
    "**Esimerkkikuva:**\n",
    "<img src=\"https://student.labranet.jamk.fi/~huoptu/datananal_s20/kerta5/harjoitukset/tehtava5.png\" width=\"1000\"/>\n"
   ]
  }
 ],
 "metadata": {
  "kernelspec": {
   "display_name": "Python 3",
   "language": "python",
   "name": "python3"
  },
  "language_info": {
   "codemirror_mode": {
    "name": "ipython",
    "version": 3
   },
   "file_extension": ".py",
   "mimetype": "text/x-python",
   "name": "python",
   "nbconvert_exporter": "python",
   "pygments_lexer": "ipython3",
   "version": "3.8.5"
  }
 },
 "nbformat": 4,
 "nbformat_minor": 2
}
